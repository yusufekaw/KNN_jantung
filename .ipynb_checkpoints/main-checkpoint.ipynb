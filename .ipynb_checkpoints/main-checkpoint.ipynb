{
 "cells": [
  {
   "cell_type": "code",
   "execution_count": 2,
   "id": "f52a4904",
   "metadata": {},
   "outputs": [],
   "source": [
    "from data.pemrosesanData import ambilData, labelEncode, MinMax, cetak_kolom_kategorikal\n",
    "from algoritma.KNN import K, splitDataset, jarakTerdekat, hasilJarakTerdekat, acakK, Klasifikasi, semuaPrediksi\n",
    "from pengujian.metrik_evaluasi import Akurasi, Presisi, Recall, F1, CM, nilaiCM Metrik, visualisaiMetrik, maksMetrik, visualisasiCM\n",
    "import numpy as np\n",
    "import pandas as pd"
   ]
  },
  {
   "cell_type": "code",
   "execution_count": 3,
   "id": "6ef75ffd",
   "metadata": {},
   "outputs": [
    {
     "name": "stdout",
     "output_type": "stream",
     "text": [
      "\t\tHasil Import Dataset\n",
      "     Age Sex ChestPainType  RestingBP  Cholesterol  FastingBS RestingECG  \\\n",
      "0     40   M           ATA        140          289          0     Normal   \n",
      "1     49   F           NAP        160          180          0     Normal   \n",
      "2     37   M           ATA        130          283          0         ST   \n",
      "3     48   F           ASY        138          214          0     Normal   \n",
      "4     54   M           NAP        150          195          0     Normal   \n",
      "..   ...  ..           ...        ...          ...        ...        ...   \n",
      "913   45   M            TA        110          264          0     Normal   \n",
      "914   68   M           ASY        144          193          1     Normal   \n",
      "915   57   M           ASY        130          131          0     Normal   \n",
      "916   57   F           ATA        130          236          0        LVH   \n",
      "917   38   M           NAP        138          175          0     Normal   \n",
      "\n",
      "     MaxHR ExerciseAngina  Oldpeak ST_Slope  HeartDisease  \n",
      "0      172              N      0.0       Up             0  \n",
      "1      156              N      1.0     Flat             1  \n",
      "2       98              N      0.0       Up             0  \n",
      "3      108              Y      1.5     Flat             1  \n",
      "4      122              N      0.0       Up             0  \n",
      "..     ...            ...      ...      ...           ...  \n",
      "913    132              N      1.2     Flat             1  \n",
      "914    141              N      3.4     Flat             1  \n",
      "915    115              Y      1.2     Flat             1  \n",
      "916    174              N      0.0     Flat             1  \n",
      "917    173              N      0.0       Up             0  \n",
      "\n",
      "[918 rows x 12 columns]\n"
     ]
    }
   ],
   "source": [
    "dataset = ambilData() # Ambil dataset\n",
    "print(\"\\t\\tHasil Import Dataset\")\n",
    "print(dataset) # menampilkan dataset"
   ]
  },
  {
   "cell_type": "code",
   "execution_count": 4,
   "id": "e100bdab",
   "metadata": {},
   "outputs": [
    {
     "name": "stdout",
     "output_type": "stream",
     "text": [
      "\t\tInformasi Kolom dataset\n",
      "<class 'pandas.core.frame.DataFrame'>\n",
      "RangeIndex: 918 entries, 0 to 917\n",
      "Data columns (total 12 columns):\n",
      " #   Column          Non-Null Count  Dtype  \n",
      "---  ------          --------------  -----  \n",
      " 0   Age             918 non-null    int64  \n",
      " 1   Sex             918 non-null    object \n",
      " 2   ChestPainType   918 non-null    object \n",
      " 3   RestingBP       918 non-null    int64  \n",
      " 4   Cholesterol     918 non-null    int64  \n",
      " 5   FastingBS       918 non-null    int64  \n",
      " 6   RestingECG      918 non-null    object \n",
      " 7   MaxHR           918 non-null    int64  \n",
      " 8   ExerciseAngina  918 non-null    object \n",
      " 9   Oldpeak         918 non-null    float64\n",
      " 10  ST_Slope        918 non-null    object \n",
      " 11  HeartDisease    918 non-null    int64  \n",
      "dtypes: float64(1), int64(6), object(5)\n",
      "memory usage: 86.2+ KB\n"
     ]
    }
   ],
   "source": [
    "print(\"\\t\\tInformasi Kolom dataset\")\n",
    "dataset.info() #informasi kolom dataset"
   ]
  },
  {
   "cell_type": "code",
   "execution_count": 5,
   "id": "84b856e8",
   "metadata": {},
   "outputs": [
    {
     "name": "stdout",
     "output_type": "stream",
     "text": [
      "\t\tInformasi Kolom kategorikal\n",
      "Kolom : Sex\n",
      "\t\t M \t:  725  data\n",
      "\t\t F \t:  193  data\n",
      "\t 2  Nilai\n",
      "Kolom : ChestPainType\n",
      "\t\t ASY \t:  496  data\n",
      "\t\t NAP \t:  203  data\n",
      "\t\t ATA \t:  173  data\n",
      "\t\t TA \t:  46  data\n",
      "\t 4  Nilai\n",
      "Kolom : RestingECG\n",
      "\t\t Normal \t:  552  data\n",
      "\t\t LVH \t:  188  data\n",
      "\t\t ST \t:  178  data\n",
      "\t 3  Nilai\n",
      "Kolom : ExerciseAngina\n",
      "\t\t N \t:  547  data\n",
      "\t\t Y \t:  371  data\n",
      "\t 2  Nilai\n",
      "Kolom : ST_Slope\n",
      "\t\t Flat \t:  460  data\n",
      "\t\t Up \t:  395  data\n",
      "\t\t Down \t:  63  data\n",
      "\t 3  Nilai\n"
     ]
    }
   ],
   "source": [
    "print(\"\\t\\tInformasi Kolom kategorikal\")\n",
    "cetak_kolom_kategorikal(dataset) # menampilkan informasi kolom kategorikal (object)"
   ]
  },
  {
   "cell_type": "code",
   "execution_count": 6,
   "id": "567c603f",
   "metadata": {},
   "outputs": [
    {
     "name": "stdout",
     "output_type": "stream",
     "text": [
      "\t\tDataset Yang Telah Diencoding\n",
      "     Age  Sex  ChestPainType  RestingBP  Cholesterol  FastingBS  RestingECG  \\\n",
      "0     40    1              1        140          289          0           1   \n",
      "1     49    0              2        160          180          0           1   \n",
      "2     37    1              1        130          283          0           2   \n",
      "3     48    0              0        138          214          0           1   \n",
      "4     54    1              2        150          195          0           1   \n",
      "..   ...  ...            ...        ...          ...        ...         ...   \n",
      "913   45    1              3        110          264          0           1   \n",
      "914   68    1              0        144          193          1           1   \n",
      "915   57    1              0        130          131          0           1   \n",
      "916   57    0              1        130          236          0           0   \n",
      "917   38    1              2        138          175          0           1   \n",
      "\n",
      "     MaxHR  ExerciseAngina  Oldpeak  ST_Slope  HeartDisease  \n",
      "0      172               0      0.0         2             0  \n",
      "1      156               0      1.0         1             1  \n",
      "2       98               0      0.0         2             0  \n",
      "3      108               1      1.5         1             1  \n",
      "4      122               0      0.0         2             0  \n",
      "..     ...             ...      ...       ...           ...  \n",
      "913    132               0      1.2         1             1  \n",
      "914    141               0      3.4         1             1  \n",
      "915    115               1      1.2         1             1  \n",
      "916    174               0      0.0         1             1  \n",
      "917    173               0      0.0         2             0  \n",
      "\n",
      "[918 rows x 12 columns]\n"
     ]
    }
   ],
   "source": [
    "dataset = labelEncode(dataset) # encoding nilai kategorikal menjadi numerikal\n",
    "print (\"\\t\\tDataset Yang Telah Diencoding\")\n",
    "print (dataset) # menampilkan dataset yang telah diencoding"
   ]
  },
  {
   "cell_type": "code",
   "execution_count": 7,
   "id": "215281bf",
   "metadata": {},
   "outputs": [
    {
     "name": "stdout",
     "output_type": "stream",
     "text": [
      "\t\tDataset Yang Telah dinormalisasi\n",
      "      Age  Sex  ChestPainType  RestingBP  Cholesterol  FastingBS  RestingECG  \\\n",
      "0    0.24  1.0           0.33       0.70         0.48        0.0         0.5   \n",
      "1    0.43  0.0           0.67       0.80         0.30        0.0         0.5   \n",
      "2    0.18  1.0           0.33       0.65         0.47        0.0         1.0   \n",
      "3    0.41  0.0           0.00       0.69         0.35        0.0         0.5   \n",
      "4    0.53  1.0           0.67       0.75         0.32        0.0         0.5   \n",
      "..    ...  ...            ...        ...          ...        ...         ...   \n",
      "913  0.35  1.0           1.00       0.55         0.44        0.0         0.5   \n",
      "914  0.82  1.0           0.00       0.72         0.32        1.0         0.5   \n",
      "915  0.59  1.0           0.00       0.65         0.22        0.0         0.5   \n",
      "916  0.59  0.0           0.33       0.65         0.39        0.0         0.0   \n",
      "917  0.20  1.0           0.67       0.69         0.29        0.0         0.5   \n",
      "\n",
      "     MaxHR  ExerciseAngina  Oldpeak  ST_Slope  HeartDisease  \n",
      "0     0.79             0.0     0.30       1.0           0.0  \n",
      "1     0.68             0.0     0.41       0.5           1.0  \n",
      "2     0.27             0.0     0.30       1.0           0.0  \n",
      "3     0.34             1.0     0.47       0.5           1.0  \n",
      "4     0.44             0.0     0.30       1.0           0.0  \n",
      "..     ...             ...      ...       ...           ...  \n",
      "913   0.51             0.0     0.43       0.5           1.0  \n",
      "914   0.57             0.0     0.68       0.5           1.0  \n",
      "915   0.39             1.0     0.43       0.5           1.0  \n",
      "916   0.80             0.0     0.30       0.5           1.0  \n",
      "917   0.80             0.0     0.30       1.0           0.0  \n",
      "\n",
      "[918 rows x 12 columns]\n"
     ]
    }
   ],
   "source": [
    "dataset = MinMax(dataset) # Normalisasi dataset\n",
    "print (\"\\t\\tDataset Yang Telah dinormalisasi\")\n",
    "print (dataset) # menampilkan dataset yang telah dinormalisasi"
   ]
  },
  {
   "cell_type": "code",
   "execution_count": 8,
   "id": "78db3428",
   "metadata": {},
   "outputs": [
    {
     "name": "stdout",
     "output_type": "stream",
     "text": [
      "nilai k yang dihasilkan : [8, 3, 9, 4, 7]\n"
     ]
    }
   ],
   "source": [
    "acak_K = acakK()\n",
    "maks_K = np.max(acak_K)\n",
    "print(\"nilai k yang dihasilkan :\", acak_K)"
   ]
  },
  {
   "cell_type": "code",
   "execution_count": 9,
   "id": "468ac41d",
   "metadata": {},
   "outputs": [],
   "source": [
    "kolom_target = 'HeartDisease' #membuang kolom HeartDisease , digunakan sebagai target\n",
    "X_train, X_test, y_train, y_test = splitDataset(dataset, kolom_target, test_size=0.2, random_state=42)"
   ]
  },
  {
   "cell_type": "code",
   "execution_count": 10,
   "id": "be0ebdbd",
   "metadata": {},
   "outputs": [
    {
     "name": "stdout",
     "output_type": "stream",
     "text": [
      "Data Training\n",
      "\n",
      "      Age  Sex  ChestPainType  RestingBP  Cholesterol  FastingBS  RestingECG  \\\n",
      "795  0.29  1.0           0.67       0.60         0.40        1.0         0.5   \n",
      "25   0.16  1.0           0.67       0.65         0.35        0.0         0.5   \n",
      "84   0.57  1.0           0.00       0.75         0.35        1.0         0.5   \n",
      "10   0.18  0.0           0.67       0.65         0.35        0.0         0.5   \n",
      "344  0.47  1.0           0.00       0.60         0.00        1.0         0.5   \n",
      "..    ...  ...            ...        ...          ...        ...         ...   \n",
      "106  0.41  0.0           0.00       0.60         0.42        0.0         1.0   \n",
      "270  0.35  1.0           0.00       0.60         0.37        0.0         0.5   \n",
      "860  0.65  1.0           0.00       0.65         0.42        0.0         0.5   \n",
      "435  0.65  1.0           0.00       0.76         0.00        0.0         1.0   \n",
      "102  0.24  0.0           0.00       0.75         0.65        0.0         0.5   \n",
      "\n",
      "     MaxHR  ExerciseAngina  Oldpeak  ST_Slope  \n",
      "795   0.94             0.0     0.39       0.0  \n",
      "25    0.83             0.0     0.30       1.0  \n",
      "84    0.46             1.0     0.41       0.5  \n",
      "10    0.58             0.0     0.30       1.0  \n",
      "344   0.31             0.0     0.30       0.5  \n",
      "..     ...             ...      ...       ...  \n",
      "106   0.35             0.0     0.30       1.0  \n",
      "270   0.56             0.0     0.30       1.0  \n",
      "860   0.59             1.0     0.45       1.0  \n",
      "435   0.41             1.0     0.30       1.0  \n",
      "102   0.49             0.0     0.52       0.5  \n",
      "\n",
      "[734 rows x 11 columns]\n"
     ]
    }
   ],
   "source": [
    "print(\"Data Training\\n\") \n",
    "print(X_train) # menampilkan data training"
   ]
  },
  {
   "cell_type": "code",
   "execution_count": 11,
   "id": "c0fb3d57",
   "metadata": {},
   "outputs": [
    {
     "name": "stdout",
     "output_type": "stream",
     "text": [
      "Data Testing\n",
      "\n",
      "      Age  Sex  ChestPainType  RestingBP  Cholesterol  FastingBS  RestingECG  \\\n",
      "668  0.71  0.0           0.33       0.70         0.32        0.0         0.5   \n",
      "30   0.51  1.0           0.67       0.72         0.86        0.0         0.5   \n",
      "377  0.76  1.0           0.00       0.80         0.00        1.0         1.0   \n",
      "535  0.57  1.0           0.00       0.65         0.00        0.0         0.0   \n",
      "807  0.53  1.0           0.33       0.54         0.51        0.0         0.5   \n",
      "..    ...  ...            ...        ...          ...        ...         ...   \n",
      "211  0.45  0.0           0.67       0.70         0.48        0.0         0.5   \n",
      "745  0.71  0.0           0.00       0.54         0.45        0.0         0.5   \n",
      "584  0.73  1.0           0.00       0.70         0.40        1.0         1.0   \n",
      "878  0.43  1.0           0.33       0.65         0.44        0.0         0.5   \n",
      "451  0.73  1.0           0.00       0.72         0.00        0.0         1.0   \n",
      "\n",
      "     MaxHR  ExerciseAngina  Oldpeak  ST_Slope  \n",
      "668   0.84             0.0     0.30       1.0  \n",
      "30    0.49             0.0     0.30       0.5  \n",
      "377   0.44             0.0     0.43       0.5  \n",
      "535   0.44             1.0     0.41       0.5  \n",
      "807   0.68             0.0     0.30       1.0  \n",
      "..     ...             ...      ...       ...  \n",
      "211   0.56             1.0     0.30       0.5  \n",
      "745   0.77             1.0     0.50       0.5  \n",
      "584   0.39             1.0     0.47       0.5  \n",
      "878   0.78             0.0     0.36       1.0  \n",
      "451   0.44             1.0     0.41       0.5  \n",
      "\n",
      "[184 rows x 11 columns]\n"
     ]
    }
   ],
   "source": [
    "print(\"Data Testing\\n\") \n",
    "print(X_test) # menampilkan data testing"
   ]
  },
  {
   "cell_type": "code",
   "execution_count": 12,
   "id": "ee63f7ab",
   "metadata": {},
   "outputs": [],
   "source": [
    "#mencari ketetanggan terdekat\n",
    "terdekat, indeks = jarakTerdekat(X_test, X_train, y_train, maks_K)"
   ]
  },
  {
   "cell_type": "code",
   "execution_count": 13,
   "id": "cc7ddbe4",
   "metadata": {},
   "outputs": [
    {
     "name": "stdout",
     "output_type": "stream",
     "text": [
      "      Testing  Training  Jarak  Kelas\n",
      "0         668        13   0.27    0.0\n",
      "1         668       403   0.30    0.0\n",
      "2         668       248   0.31    0.0\n",
      "3         668        41   0.33    0.0\n",
      "4         668       197   0.33    0.0\n",
      "...       ...       ...    ...    ...\n",
      "1651      451       277   0.22    1.0\n",
      "1652      451       607   0.30    1.0\n",
      "1653      451       475   0.33    1.0\n",
      "1654      451       278   0.37    1.0\n",
      "1655      451       326   0.38    1.0\n",
      "\n",
      "[1656 rows x 4 columns]\n"
     ]
    }
   ],
   "source": [
    "#mencari ketetanggan terdekat\n",
    "terdekat, indeks = jarakTerdekat(X_test, X_train, y_train, maks_K)\n",
    "# Melakukan klasifikasi menggunakan kNN untuk setiap nilai k\n",
    "y_pred = semuaPrediksi(acak_K, X_train, y_train, X_test)\n",
    "# mencari jarak terdekat\n",
    "hasil_jarak_terdekat = hasilJarakTerdekat(X_test, y_train, terdekat, indeks)    \n",
    "#konversi data frame\n",
    "df_hasil_jarak_terdekat = pd.DataFrame(hasil_jarak_terdekat, columns=[\"Testing\", \"Training\", \"Jarak\", \"Kelas\"])\n",
    "print(df_hasil_jarak_terdekat)"
   ]
  },
  {
   "cell_type": "code",
   "execution_count": 14,
   "id": "bfd0cee2",
   "metadata": {},
   "outputs": [
    {
     "name": "stdout",
     "output_type": "stream",
     "text": [
      "       #  target   K8   K3   K9   K4   K7\n",
      "0    668     0.0  0.0  0.0  0.0  0.0  0.0\n",
      "1     30     1.0  1.0  1.0  1.0  1.0  1.0\n",
      "2    377     1.0  1.0  1.0  1.0  1.0  1.0\n",
      "3    535     1.0  1.0  1.0  1.0  1.0  1.0\n",
      "4    807     0.0  0.0  0.0  0.0  0.0  0.0\n",
      "..   ...     ...  ...  ...  ...  ...  ...\n",
      "179  211     1.0  1.0  0.0  1.0  0.0  1.0\n",
      "180  745     1.0  1.0  1.0  1.0  1.0  1.0\n",
      "181  584     1.0  1.0  1.0  1.0  1.0  1.0\n",
      "182  878     0.0  0.0  0.0  0.0  0.0  0.0\n",
      "183  451     1.0  1.0  1.0  1.0  1.0  1.0\n",
      "\n",
      "[184 rows x 7 columns]\n"
     ]
    }
   ],
   "source": [
    "kolom_prediksi = [\"K\" + str(val) for val in acak_K] # Membuat dictionary kolom\n",
    "prediksi = pd.DataFrame(np.transpose(y_pred), columns=kolom_prediksi) # Membuat dataframe\n",
    "klasifikasi = Klasifikasi(X_test, prediksi, y_test) # Hasil klasifikasi\n",
    "print(klasifikasi)"
   ]
  },
  {
   "cell_type": "code",
   "execution_count": 15,
   "id": "5740d3ee",
   "metadata": {},
   "outputs": [],
   "source": [
    "akurasi, presisi, recall, f1, cm = Metrik(y_test, prediksi)"
   ]
  },
  {
   "cell_type": "code",
   "execution_count": 16,
   "id": "fe706fbb",
   "metadata": {},
   "outputs": [
    {
     "data": {
      "image/png": "[encoded data removed]",
      "text/plain": [
       "<Figure size 1500x400 with 5 Axes>"
      ]
     },
     "metadata": {},
     "output_type": "display_data"
    }
   ],
   "source": [
    "visualisasiCM(cm, acak_K)"
   ]
  },
  {
   "cell_type": "code",
   "execution_count": 76,
   "id": "e3c193eb",
   "metadata": {},
   "outputs": [
    {
     "name": "stdout",
     "output_type": "stream",
     "text": [
      "TN: [69, 66, 65, 69, 66]\n",
      "FP: [8, 11, 12, 8, 11]\n",
      "FN: [18, 19, 14, 24, 14]\n",
      "TP: [89, 88, 93, 83, 93]\n",
      "T: [158, 154, 158, 152, 159]\n",
      "F: [26, 30, 26, 32, 25]\n"
     ]
    }
   ],
   "source": [
    "TN, FP, FN, TP, T, F = nilaiCM(cm)"
   ]
  },
  {
   "cell_type": "code",
   "execution_count": 48,
   "id": "c10920e8",
   "metadata": {},
   "outputs": [
    {
     "name": "stdout",
     "output_type": "stream",
     "text": [
      "   k  akurasi  presisi  recall    f1\n",
      "0  8     0.86     0.92    0.83  0.87\n",
      "1  3     0.84     0.89    0.82  0.85\n",
      "2  9     0.86     0.89    0.87  0.88\n",
      "3  4     0.83     0.91    0.78  0.84\n",
      "4  7     0.86     0.89    0.87  0.88\n"
     ]
    }
   ],
   "source": [
    "metrik = pd.DataFrame({'k': acak_K,'akurasi': akurasi, 'presisi': presisi, 'recall': recall, 'f1': f1})\n",
    "print(metrik)"
   ]
  },
  {
   "cell_type": "code",
   "execution_count": 18,
   "id": "ea09cfa1",
   "metadata": {},
   "outputs": [
    {
     "name": "stdout",
     "output_type": "stream",
     "text": [
      "Akurasi tertinggi  0.86  pada K  [8 9 7] \n",
      "Presisi tertinggi  0.92  pada K  [8] \n",
      "Recall tertinggi  0.87  pada K  [9 7] \n",
      "Skor F1 tertinggi  0.88  pada K  [9 7]\n"
     ]
    }
   ],
   "source": [
    "maksMetrik(metrik)"
   ]
  },
  {
   "cell_type": "code",
   "execution_count": 19,
   "id": "662f2893",
   "metadata": {},
   "outputs": [
    {
     "data": {
      "image/png": "[encoded data removed]",
      "text/plain": [
       "<Figure size 800x600 with 1 Axes>"
      ]
     },
     "metadata": {},
     "output_type": "display_data"
    }
   ],
   "source": [
    "visualisaiMetrik(metrik)"
   ]
  }
 ],
 "metadata": {
  "kernelspec": {
   "display_name": "Python 3 (ipykernel)",
   "language": "python",
   "name": "python3"
  },
  "language_info": {
   "codemirror_mode": {
    "name": "ipython",
    "version": 3
   },
   "file_extension": ".py",
   "mimetype": "text/x-python",
   "name": "python",
   "nbconvert_exporter": "python",
   "pygments_lexer": "ipython3",
   "version": "3.10.6"
  }
 },
 "nbformat": 4,
 "nbformat_minor": 5
}
